{
 "cells": [
  {
   "cell_type": "markdown",
   "metadata": {},
   "source": [
    "# Correlation"
   ]
  },
  {
   "cell_type": "markdown",
   "metadata": {},
   "source": [
    "Correlation is a statistical measure that tells how two variables or features are related to each other. In simple words, correlation explains\n",
    "how would one variable behave when the value of other variable is increased or decreased.\n",
    "\n",
    "The relation between the two variables can be \n",
    "\n",
    "1. __Positive__ - meaning an increase of one would increase the value of the other variable as well.\n",
    "2. __Negative__ - the two variables are inversely related, an increase of one would decrease the other and vice versa\n",
    "3. __No Relation__ - no affects of the value change on other"
   ]
  },
  {
   "cell_type": "markdown",
   "metadata": {},
   "source": [
    "# Correlation coefficient\n",
    "\n",
    "This statistic measure gives the idea of how strong the two features are correlated. This value ranges between -1 & 1.\n",
    "\n",
    "-1 - indicates a strong negative relation\n",
    "\n",
    "0 - indicates no relation\n",
    "\n",
    "1 - indicates the strong relation\n",
    "\n",
    "In the following  \n",
    "\n",
    "(a) indicates strong positive correlation between x1 and x2\n",
    "\n",
    "(b)indicates a stong negative correlation and where as\n",
    "\n",
    "(c) indicates no correlation"
   ]
  },
  {
   "cell_type": "markdown",
   "metadata": {},
   "source": [
    "<img src='corrs.png'/>"
   ]
  },
  {
   "cell_type": "markdown",
   "metadata": {},
   "source": [
    "#  Pearson Correlation"
   ]
  },
  {
   "cell_type": "markdown",
   "metadata": {},
   "source": [
    "Pearson correlation measures the linear relationship between two variables. \n",
    "\n",
    "if the Pearson correlation has value of 0 it means the two variables are not linearly related but there can be other non-linear relationship between them. Hence, it should not be concluded that two variables are not related just by considering the pearson value of 0.\n"
   ]
  },
  {
   "cell_type": "markdown",
   "metadata": {},
   "source": [
    "\n",
    "Pearson Correlation between variables x & y =    __covariance(x,y) / (stdDev(x)*stdDev(y))__"
   ]
  },
  {
   "cell_type": "markdown",
   "metadata": {},
   "source": [
    "# Calculating Covariance using numpy"
   ]
  },
  {
   "cell_type": "code",
   "execution_count": 20,
   "metadata": {},
   "outputs": [
    {
     "name": "stdout",
     "output_type": "stream",
     "text": [
      "[[14.5 20.5]\n",
      " [20.5 29.2]]\n"
     ]
    }
   ],
   "source": [
    "import numpy as np\n",
    "\n",
    "x = [10,13,15,17,20]\n",
    "y = [76,80,84,86,90]\n",
    "\n",
    "cov_matrix = np.cov(x,y)\n",
    "\n",
    "print(cov_matrix)"
   ]
  },
  {
   "cell_type": "markdown",
   "metadata": {},
   "source": [
    " The above displays the covariance matrix in the following format\n",
    "\n",
    "  cov(x,x)    cov(x,y)\n",
    "\n",
    "  cov(y,x)    cov(y,y)\n",
    "  \n",
    "  we are interested to find the covariance of x & y cov(x,y)\n",
    "  \n",
    "  __Note__ cov(x,y) = cov(y,x)"
   ]
  },
  {
   "cell_type": "code",
   "execution_count": 21,
   "metadata": {},
   "outputs": [
    {
     "name": "stdout",
     "output_type": "stream",
     "text": [
      "covariance of x & y =  20.5\n"
     ]
    }
   ],
   "source": [
    " print('covariance of x & y = ',cov_matrix[0,1])"
   ]
  },
  {
   "cell_type": "markdown",
   "metadata": {},
   "source": [
    "#  calculating Covariance by hand\n",
    "\n",
    "Let us consider the same values used in the above step\n",
    "\n",
    "x = [10,13,15,17,20]\n",
    "\n",
    "y = [76,80,84,86,90]"
   ]
  },
  {
   "cell_type": "markdown",
   "metadata": {},
   "source": [
    "<img src='cov_2.jpeg' width='500' height='500'/>\n",
    "<img src='cov_1.jpeg' width='500' height='500'/>\n"
   ]
  },
  {
   "cell_type": "markdown",
   "metadata": {},
   "source": [
    "# calculating pearson Correlation"
   ]
  },
  {
   "cell_type": "code",
   "execution_count": 22,
   "metadata": {},
   "outputs": [
    {
     "name": "stdout",
     "output_type": "stream",
     "text": [
      "Pearson Correlation is denoted  by r\n",
      "Pearson Correlation between x & y = r  = 0.9962731687323246\n"
     ]
    }
   ],
   "source": [
    "print(\"Pearson Correlation is denoted  by r\")\n",
    "print(\"Pearson Correlation between x & y = r  =\", np.corrcoef(x,y)[0,1])\n"
   ]
  },
  {
   "cell_type": "markdown",
   "metadata": {},
   "source": [
    "# calculating pearson Correlation by hand\n",
    "\n",
    "we have already calculated the cov(x,y) = 20.5\n",
    "\n",
    "pearson correlation = cov(x,y) / stdDev(x)* stdDev(y)"
   ]
  },
  {
   "cell_type": "markdown",
   "metadata": {},
   "source": [
    "<img src='pearson.jpeg'  width='500' height='200'/>"
   ]
  },
  {
   "cell_type": "code",
   "execution_count": null,
   "metadata": {},
   "outputs": [],
   "source": []
  }
 ],
 "metadata": {
  "kernelspec": {
   "display_name": "Python 3",
   "language": "python",
   "name": "python3"
  },
  "language_info": {
   "codemirror_mode": {
    "name": "ipython",
    "version": 3
   },
   "file_extension": ".py",
   "mimetype": "text/x-python",
   "name": "python",
   "nbconvert_exporter": "python",
   "pygments_lexer": "ipython3",
   "version": "3.7.3"
  }
 },
 "nbformat": 4,
 "nbformat_minor": 2
}
