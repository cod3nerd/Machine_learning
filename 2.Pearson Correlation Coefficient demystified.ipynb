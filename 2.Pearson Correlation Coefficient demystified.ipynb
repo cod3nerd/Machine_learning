{
 "cells": [
  {
   "cell_type": "markdown",
   "metadata": {},
   "source": [
    "# Pearson Correlation Coefficient Calculation demystified\n",
    "\n",
    "In the previous post, we have discussed the importance of understanding the correlation coefficient and how to calculate the Pearson correlation coefficient.\n",
    "\n",
    "Pearson coefficient gives the idea of how strongly the variables have a linear relationship with the target variable. Once, these values are determined between each of the dependent variables and the target value it can be decided which are the independent features to be considered while building a linear model (be it regression or classifier model). The features which have a higher value (>0.7) can be considered for building the model while dropping the ones below that. The above step of selecting the features based on correlation falls under the feature selection step. Better the features better the output/accuracy of the model being built."
   ]
  },
  {
   "cell_type": "markdown",
   "metadata": {},
   "source": [
    "When Pearson Coefficient (r) = 0 (close to 0), the scatter plot between the variable will look something like below\n"
   ]
  },
  {
   "cell_type": "markdown",
   "metadata": {},
   "source": [
    "<img src='cv_r_0.png' />"
   ]
  },
  {
   "cell_type": "markdown",
   "metadata": {},
   "source": [
    "Let us understand why the scatter plots of above format have Pearson Coefficient of 0 or close to 0. \n",
    "\n",
    "The formula for Pearson coefficient for variable x & y =  cov(x,y) / stdDev(x) * stdDev(y)"
   ]
  },
  {
   "cell_type": "markdown",
   "metadata": {},
   "source": [
    "<img src='pear_form.PNG' />"
   ]
  },
  {
   "cell_type": "markdown",
   "metadata": {},
   "source": [
    "Let us consider 4 points in each quadrants as shown below"
   ]
  },
  {
   "cell_type": "markdown",
   "metadata": {},
   "source": [
    "<img src='cv_r_1.png'/>"
   ]
  },
  {
   "cell_type": "markdown",
   "metadata": {},
   "source": [
    "__Quadrant 1__\n",
    "\n",
    "let us consider the mean of X and Y values are 0 and let us consider a point (x,y) = (1,1)\n",
    "\n",
    "so for the first quadrant consider the numerator in the pearson formula and replace mean with 0 then it looks like\n",
    "(x-0)* (y-0) => (1-0)* (1-0)  => +1 \n",
    "\n",
    "and the denominator becomes 1\n",
    "\n",
    "so in the first quadrant for a single point (1,1) the Pearson Coefficient value = 1"
   ]
  },
  {
   "cell_type": "markdown",
   "metadata": {},
   "source": [
    "__Quadrant 3__\n",
    "\n",
    "let us consider the mean of X and Y values are 0 and let us consider a point (x,y) = (-1,-1)\n",
    "\n",
    "so for the first quadrant consider the numerator in the pearson formula and replace mean with 0 then it looks like\n",
    "(x-0)* (y-0) => (-1-0)* (-1-0)  = -1 * -1 = 1 \n",
    "\n",
    "and the denominator becomes 1\n",
    "\n",
    "so in the third quadrant for a single point (-1,-1) the Pearson Coefficient value = 1"
   ]
  },
  {
   "cell_type": "markdown",
   "metadata": {},
   "source": [
    "__Quadrant 2__\n",
    "\n",
    "let us consider the mean of X and Y values are 0 and let us consider a point (x,y) = (-1,1)\n",
    "\n",
    "so for the first quadrant consider the numerator in the pearson formula and replace mean with 0 then it looks like\n",
    "(x-0)* (y-0) => (-1-0)* (1-0)  => -1 \n",
    "\n",
    "and the denominator becomes 1\n",
    "\n",
    "so in the second quadrant for a single point (-1,1) the Pearson Coefficient value = -1"
   ]
  },
  {
   "cell_type": "markdown",
   "metadata": {},
   "source": [
    "__Quadrant 4__\n",
    "\n",
    "let us consider the mean of X and Y values are 0 and let us consider a point (x,y) = (1,-1)\n",
    "\n",
    "so for the first quadrant consider the numerator in the pearson formula and replace mean with 0 then it looks like\n",
    "(x-0)* (y-0) => (1-0)* (-1-0)  => -1 \n",
    "\n",
    "and the denominator becomes 1\n",
    "\n",
    "so in the fourth quadrant for a single point (1,-1) the Pearson Coefficient value = -1"
   ]
  },
  {
   "cell_type": "markdown",
   "metadata": {},
   "source": [
    "So the values for each point considered in four quadrants are as below\n",
    "\n",
    "quadrant 1 = 1\n",
    "quadrant 2 = -1\n",
    "quadrant 3 = 1\n",
    "quadrant 4 = -1\n",
    "\n",
    "sum of the above all quadrant values = 1+-1+1+-1 = 0\n",
    "\n",
    "The Pearson coefficient as a whole is the sum of calculated values for all the points in all the 4 quadrants which will be very similar to the above calculations and final value would be close to zero and hence for the data dispersed as shown in the below patterns will result in a Pearson value of 0\n",
    "<img src='cv_r_0.png' />"
   ]
  },
  {
   "cell_type": "code",
   "execution_count": null,
   "metadata": {},
   "outputs": [],
   "source": []
  }
 ],
 "metadata": {
  "kernelspec": {
   "display_name": "Python 3",
   "language": "python",
   "name": "python3"
  },
  "language_info": {
   "codemirror_mode": {
    "name": "ipython",
    "version": 3
   },
   "file_extension": ".py",
   "mimetype": "text/x-python",
   "name": "python",
   "nbconvert_exporter": "python",
   "pygments_lexer": "ipython3",
   "version": "3.7.3"
  }
 },
 "nbformat": 4,
 "nbformat_minor": 2
}
